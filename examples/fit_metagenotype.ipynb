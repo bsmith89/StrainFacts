{
 "cells": [
  {
   "cell_type": "code",
   "execution_count": null,
   "metadata": {},
   "outputs": [],
   "source": [
    "import sfacts as sf"
   ]
  },
  {
   "cell_type": "markdown",
   "metadata": {},
   "source": [
    "Load the simulated metagenotype and filter\n",
    "\n",
    "- positions by a minimum minor allele frequency\n",
    "- samples by a minimum horizontal coverage (fraction of sites with counts)"
   ]
  },
  {
   "cell_type": "code",
   "execution_count": null,
   "metadata": {},
   "outputs": [],
   "source": [
    "!sfacts filter_mgen \\\n",
    "    --min-minor-allele-freq 0.05 \\\n",
    "    --min-horizontal-cvrg 0.15 \\\n",
    "    --random-seed 0 \\\n",
    "    sim.mgen.nc sim.filt.mgen.nc"
   ]
  },
  {
   "cell_type": "code",
   "execution_count": null,
   "metadata": {},
   "outputs": [],
   "source": [
    "mgen_raw = sf.data.Metagenotypes.load('sim.mgen.nc')\n",
    "mgen_filt = sf.data.Metagenotypes.load('sim.filt.mgen.nc')\n",
    "print(mgen_raw.sizes)\n",
    "print(mgen_filt.sizes)"
   ]
  },
  {
   "cell_type": "markdown",
   "metadata": {},
   "source": [
    "We can see that this did not reduce the size of the data; that's because our simulation had\n",
    "uniform coverage and plenty of polymorphism at each site.\n",
    "(Real data will be filtered much more than this.)\n",
    "\n",
    "Plotting the metagenotypes again:"
   ]
  },
  {
   "cell_type": "code",
   "execution_count": null,
   "metadata": {},
   "outputs": [],
   "source": [
    "sf.plot.plot_metagenotype(mgen_filt.to_world())"
   ]
  },
  {
   "cell_type": "markdown",
   "metadata": {},
   "source": [
    "Now the fun part: fitting the StrainFacts model to these data.\n",
    "\n",
    "Let's take a look at the default hyperparameters for our model."
   ]
  },
  {
   "cell_type": "code",
   "execution_count": null,
   "metadata": {},
   "outputs": [],
   "source": [
    "!sfacts describe default"
   ]
  },
  {
   "cell_type": "markdown",
   "metadata": {},
   "source": [
    "We'll leave all of the hyperparameters set to their default values for this model.\n",
    "In addition, we explicitly fit 15 strains (5 more than the simulation actually had),\n",
    "and we set a random seed for reproducibility."
   ]
  },
  {
   "cell_type": "code",
   "execution_count": null,
   "metadata": {},
   "outputs": [],
   "source": [
    "!sfacts fit \\\n",
    "    --verbose \\\n",
    "    --num-strains 15 \\\n",
    "    --random-seed 0 \\\n",
    "    sim.filt.mgen.nc sim.filt.fit.world.nc"
   ]
  },
  {
   "cell_type": "markdown",
   "metadata": {},
   "source": [
    "A model of this size on this dataset should fit relatively quickly (~1 minute on my computer).\n",
    "\n",
    "When run on the command-line, several pieces of information are printed to the screen,\n",
    "thanks to the `--verbose` flag."
   ]
  },
  {
   "cell_type": "markdown",
   "metadata": {},
   "source": [
    "The result of this fit is a \"world\" with a point estimate for _all_ of the parameters.\n",
    "\n",
    "Let's load this into Python and plot the inferred genotypes and relative abundances."
   ]
  },
  {
   "cell_type": "code",
   "execution_count": null,
   "metadata": {},
   "outputs": [],
   "source": [
    "fit = sf.data.World.load('sim.filt.fit.world.nc')\n",
    "\n",
    "# Plot inferred relative abundances for each sample (the \"community\").\n",
    "sf.plot.plot_community(\n",
    "    fit,\n",
    "    col_linkage_func=lambda w: w.metagenotypes.linkage('sample'),\n",
    "    row_linkage_func=lambda w: w.genotypes.linkage('strain'),\n",
    ")\n",
    "\n",
    "# Plot the inferred genotypes of the 10 simulated strains.\n",
    "sf.plot.plot_genotype(\n",
    "    fit,\n",
    "    row_linkage_func=lambda w: w.genotypes.linkage(\"strain\"),\n",
    "    col_linkage_func=lambda w: w.metagenotypes.linkage(\"position\"),\n",
    ")"
   ]
  },
  {
   "cell_type": "markdown",
   "metadata": {},
   "source": [
    "Sometimes\n",
    "we may want to re-estimate genotypes\n",
    "based on this initial estimate of strain relative abundances.\n",
    "This can be useful if we have many more SNP positions than computational resources.\n",
    "\n",
    "Here, we fit again fit all 500 simulated positions.\n",
    "If we had more, we could split it up serially (`--chunk-size`) or across multiple processes (`--block-size` and `--block-number`).\n",
    "\n",
    "Several hyperparameters are set to the defaults for this model.\n",
    "For this refitting we have explicitly set the regularization parameter, $\\gamma^*$ / `gamma_hyper`, to 1.0,\n",
    "which removes the bias towards discrete genotypes.\n",
    "The result is that our genotype estimates will be more \"fuzzy\",\n",
    "incorporating more uncertainty."
   ]
  },
  {
   "cell_type": "code",
   "execution_count": null,
   "metadata": {},
   "outputs": [],
   "source": [
    "!sfacts fit_geno \\\n",
    "    --verbose \\\n",
    "    --model-structure model2 \\\n",
    "    --hyperparameters gamma_hyper=1.0 \\\n",
    "    --block-size=500 \\\n",
    "    --chunk-size=500 \\\n",
    "    --block-number=0 \\\n",
    "    --random-seed=0 \\\n",
    "    sim.filt.fit.world.nc sim.filt.mgen.nc sim.filt.fit.refit-0.geno.nc"
   ]
  },
  {
   "cell_type": "code",
   "execution_count": null,
   "metadata": {},
   "outputs": [],
   "source": [
    "!sfacts concat_geno \\\n",
    "            --metagenotype sim.filt.mgen.nc \\\n",
    "            --community sim.filt.fit.world.nc \\\n",
    "            --outpath sim.filt.fit.refit.world.nc \\\n",
    "            sim.filt.fit.refit-0.geno.nc"
   ]
  },
  {
   "cell_type": "markdown",
   "metadata": {},
   "source": [
    "`concatenate_genotype_chunks` then recombines one or more genotype blocks refit in this step with the observed\n",
    "metagenotype data and original community inference to build a new world file.\n",
    "\n",
    "When we visualize these refit genotypes, we see that they look similar, but slightly \"fuzzier\"\n",
    "than the original fit."
   ]
  },
  {
   "cell_type": "code",
   "execution_count": null,
   "metadata": {},
   "outputs": [],
   "source": [
    "refit = sf.data.World.load('sim.filt.fit.refit.world.nc')\n",
    "refit = refit.sel(position=fit.position.astype(str))\n",
    "\n",
    "\n",
    "# Plot the 15 inferred genotypes of the 10 simulated strains.\n",
    "sf.plot.plot_genotype(\n",
    "    fit,\n",
    "    row_linkage_func=lambda w: fit.genotypes.linkage(\"strain\"),\n",
    "    col_linkage_func=lambda w: w.metagenotypes.linkage(\"position\"),\n",
    ")\n",
    "\n",
    "# We can see that we get approximately the same genotypes, but more fuzzy this time.\n",
    "sf.plot.plot_genotype(\n",
    "    refit,\n",
    "    row_linkage_func=lambda w: fit.genotypes.linkage(\"strain\"),\n",
    "    col_linkage_func=lambda w: w.metagenotypes.linkage(\"position\"),\n",
    ")\n"
   ]
  },
  {
   "cell_type": "markdown",
   "metadata": {},
   "source": [
    "Finally, we'll dump the relative abundance and genotype inferences out to TSV files,\n",
    "which are now ready to be processed by downstream tools.\n",
    "\n",
    "Note that the genotypes for each strain in each position are encoded as a float,\n",
    "where 0.0 means entirely reference and 1.0 means entirely alternative allele."
   ]
  },
  {
   "cell_type": "code",
   "execution_count": null,
   "metadata": {},
   "outputs": [],
   "source": [
    "!sfacts dump sim.filt.fit.refit.world.nc \\\n",
    "    --genotype sim.filt.fit.refit.geno.tsv \\\n",
    "    --community sim.filt.fit.refit.comm.tsv"
   ]
  },
  {
   "cell_type": "code",
   "execution_count": null,
   "metadata": {},
   "outputs": [],
   "source": [
    "!head sim.filt.fit.refit.geno.tsv sim.filt.fit.refit.comm.tsv"
   ]
  },
  {
   "cell_type": "markdown",
   "metadata": {},
   "source": [
    "In the next example, we'll compare this fit to the simulated ground-truth\n",
    "in order to evaluate our performance."
   ]
  }
 ],
 "metadata": {
  "kernelspec": {
   "display_name": "Python 3 (ipykernel)",
   "language": "python",
   "name": "python3"
  },
  "language_info": {
   "codemirror_mode": {
    "name": "ipython",
    "version": 3
   },
   "file_extension": ".py",
   "mimetype": "text/x-python",
   "name": "python",
   "nbconvert_exporter": "python",
   "pygments_lexer": "ipython3",
   "version": "3.9.7"
  }
 },
 "nbformat": 4,
 "nbformat_minor": 5
}