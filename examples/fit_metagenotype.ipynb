{
 "cells": [
  {
   "cell_type": "code",
   "execution_count": null,
   "metadata": {},
   "outputs": [],
   "source": [
    "import sfacts as sf"
   ]
  },
  {
   "cell_type": "code",
   "execution_count": null,
   "metadata": {},
   "outputs": [],
   "source": [
    "%%bash\n",
    "sfacts filter_mgen --min-minor-allele-freq 0.05 --min-horizontal-cvrg 0.1 --random-seed 0 example1.sim.mgen.nc example1.sim.filt.mgen.nc\n",
    "sfacts fit \\\n",
    "    --verbose \\\n",
    "    --model-structure ssdd3_with_error \\\n",
    "    --num-strains 15 --num-positions 500 \\\n",
    "    --random-seed 0 \\\n",
    "    example1.sim.filt.mgen.nc example1.sim.filt.fit.world.nc"
   ]
  },
  {
   "cell_type": "code",
   "execution_count": null,
   "metadata": {},
   "outputs": [],
   "source": [
    "fit = sf.data.World.load('example1.sim.filt.fit.world.nc')\n",
    "sf.plot.plot_community(fit, row_linkage_func=lambda w: w.genotypes.linkage(\"strain\"), col_linkage_func=lambda w: w.metagenotypes.linkage(\"sample\"))\n",
    "sf.plot.plot_genotype(fit, row_linkage_func=lambda w: w.genotypes.linkage(\"strain\"))\n",
    "sf.plot.plot_metagenotype(fit, col_linkage_func=lambda w: w.metagenotypes.linkage(\"sample\"))"
   ]
  },
  {
   "cell_type": "code",
   "execution_count": null,
   "metadata": {},
   "outputs": [],
   "source": [
    "sfacts fit_genotype \\\n",
    "    --verbose \\\n",
    "    --model-structure ssdd3_with_error \\\n",
    "    --num-positionsB 1000 \\\n",
    "    --hyperparameters gamma_hyper=1e-5 \\\n",
    "    --block-number 0 \\\n",
    "    --random-seed=0 \\\n",
    "    example1.sim.filt.fit.world.nc example1.sim.filt.mgen.nc example1.sim.filt.fit.refit.world.nc"
   ]
  },
  {
   "cell_type": "code",
   "execution_count": null,
   "metadata": {},
   "outputs": [],
   "source": [
    "sfacts concatenate_genotype_chunks \\\n",
    "            --metagenotype example1.sim.filt.mgen.nc \\\n",
    "            --community example1.sim.filt.fit.world.nc \\\n",
    "            --outpath example1.sim.filt.fit.refit.world.nc \\\n",
    "            example1.sim.filt.fit.refit.geno.nc"
   ]
  }
 ],
 "metadata": {
  "kernelspec": {
   "display_name": "Python 3 (ipykernel)",
   "language": "python",
   "name": "python3"
  },
  "language_info": {
   "codemirror_mode": {
    "name": "ipython",
    "version": 3
   },
   "file_extension": ".py",
   "mimetype": "text/x-python",
   "name": "python",
   "nbconvert_exporter": "python",
   "pygments_lexer": "ipython3",
   "version": "3.9.7"
  }
 },
 "nbformat": 4,
 "nbformat_minor": 5
}