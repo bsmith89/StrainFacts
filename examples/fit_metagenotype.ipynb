{
 "cells": [
  {
   "cell_type": "code",
   "execution_count": null,
   "metadata": {},
   "outputs": [],
   "source": [
    "import sfacts as sf"
   ]
  },
  {
   "cell_type": "markdown",
   "metadata": {},
   "source": [
    "Load the simulated metagenotype and filter\n",
    "\n",
    "- positions by a minimum minor allele frequency\n",
    "- samples by a minimum horizontal coverage (fraction of sites with counts)"
   ]
  },
  {
   "cell_type": "code",
   "execution_count": null,
   "metadata": {},
   "outputs": [],
   "source": [
    "!sfacts filter_mgen \\\n",
    "    --min-minor-allele-freq 0.05 \\\n",
    "    --min-horizontal-cvrg 0.15 \\\n",
    "    --random-seed 0 \\\n",
    "    sim.mgen.nc sim.filt.mgen.nc"
   ]
  },
  {
   "cell_type": "code",
   "execution_count": null,
   "metadata": {},
   "outputs": [],
   "source": [
    "!sfacts data_info sim.filt.mgen.nc"
   ]
  },
  {
   "cell_type": "markdown",
   "metadata": {},
   "source": [
    "Now subsample 500 of the positions."
   ]
  },
  {
   "cell_type": "code",
   "execution_count": null,
   "metadata": {},
   "outputs": [],
   "source": [
    "mgen_raw = sf.data.Metagenotype.load('sim.mgen.nc')\n",
    "mgen_filt = sf.data.Metagenotype.load('sim.filt.mgen.nc')\n",
    "mgen_ss = sf.data.Metagenotype.load('sim.filt.mgen.nc')\n",
    "\n",
    "print(mgen_raw.sizes)\n",
    "print(mgen_filt.sizes)\n",
    "print(mgen_ss.sizes)"
   ]
  },
  {
   "cell_type": "markdown",
   "metadata": {},
   "source": [
    "We can see that this did not reduce the size of the data; that's because our simulation had\n",
    "uniform coverage and plenty of polymorphism at each site.\n",
    "(Real data will be filtered much more than this.)\n",
    "\n",
    "Plotting the metagenotype again:"
   ]
  },
  {
   "cell_type": "code",
   "execution_count": null,
   "metadata": {},
   "outputs": [],
   "source": [
    "sf.plot.plot_metagenotype(mgen_ss.to_world())"
   ]
  },
  {
   "cell_type": "markdown",
   "metadata": {},
   "source": [
    "Now the fun part: fitting the StrainFacts model to these data.\n",
    "\n",
    "Let's take a look at the details of the default StrainFacts model."
   ]
  },
  {
   "cell_type": "code",
   "execution_count": null,
   "metadata": {},
   "outputs": [],
   "source": [
    "!sfacts model_info default"
   ]
  },
  {
   "cell_type": "markdown",
   "metadata": {},
   "source": [
    "We'll leave all of the hyperparameters set to their default values for this model.\n",
    "In addition, we explicitly fit 15 strains (5 more than the simulation actually had),\n",
    "and we set a random seed for reproducibility."
   ]
  },
  {
   "cell_type": "code",
   "execution_count": null,
   "metadata": {},
   "outputs": [],
   "source": [
    "!sfacts fit \\\n",
    "    --verbose \\\n",
    "    --num-strains 15 \\\n",
    "    --random-seed 0 \\\n",
    "    sim.filt.mgen.nc sim.filt.fit.world.nc"
   ]
  },
  {
   "cell_type": "markdown",
   "metadata": {},
   "source": [
    "A model of this size on this dataset should fit relatively quickly (<2 minutes on my computer).\n",
    "\n",
    "When run on the command-line, several pieces of information are printed to the screen,\n",
    "thanks to the `--verbose` flag."
   ]
  },
  {
   "cell_type": "markdown",
   "metadata": {},
   "source": [
    "The result of this fit is a \"world\" with a point estimate for _all_ of the parameters.\n",
    "\n",
    "Let's load this into Python and plot the inferred genotypes and relative abundances."
   ]
  },
  {
   "cell_type": "code",
   "execution_count": null,
   "metadata": {},
   "outputs": [],
   "source": [
    "fit = sf.data.World.load('sim.filt.fit.world.nc')\n",
    "\n",
    "# Plot inferred relative abundances for each sample (the \"community\").\n",
    "sf.plot.plot_community(\n",
    "    fit,\n",
    "    col_linkage_func=lambda w: w.metagenotype.linkage('sample'),\n",
    "    row_linkage_func=lambda w: w.genotype.linkage('strain'),\n",
    ")\n",
    "\n",
    "# Plot the inferred genotype of the 10 simulated strains.\n",
    "sf.plot.plot_genotype(\n",
    "    fit,\n",
    "    row_linkage_func=lambda w: w.genotype.linkage(\"strain\"),\n",
    "    col_linkage_func=lambda w: w.metagenotype.linkage(\"position\"),\n",
    ")"
   ]
  },
  {
   "cell_type": "markdown",
   "metadata": {},
   "source": [
    "Finally, we'll dump the relative abundance and genotype inferences out to TSV files,\n",
    "which could then be used by downstream tools.\n",
    "\n",
    "Note that the genotypes for each strain in each position are encoded as a float,\n",
    "where 0.0 means entirely reference and 1.0 means entirely alternative allele."
   ]
  },
  {
   "cell_type": "code",
   "execution_count": null,
   "metadata": {},
   "outputs": [],
   "source": [
    "!sfacts dump sim.filt.fit.refit.world.nc \\\n",
    "    --genotype sim.filt.fit.refit.geno.tsv \\\n",
    "    --community sim.filt.fit.refit.comm.tsv"
   ]
  },
  {
   "cell_type": "code",
   "execution_count": null,
   "metadata": {},
   "outputs": [],
   "source": [
    "!head sim.filt.fit.refit.geno.tsv sim.filt.fit.refit.comm.tsv"
   ]
  },
  {
   "cell_type": "markdown",
   "metadata": {},
   "source": [
    "In the next example, we'll compare this fit to the simulated ground-truth\n",
    "in order to evaluate our performance."
   ]
  }
 ],
 "metadata": {
  "kernelspec": {
   "display_name": "Python 3 (ipykernel)",
   "language": "python",
   "name": "python3"
  },
  "language_info": {
   "codemirror_mode": {
    "name": "ipython",
    "version": 3
   },
   "file_extension": ".py",
   "mimetype": "text/x-python",
   "name": "python",
   "nbconvert_exporter": "python",
   "pygments_lexer": "ipython3",
   "version": "3.9.7"
  }
 },
 "nbformat": 4,
 "nbformat_minor": 5
}