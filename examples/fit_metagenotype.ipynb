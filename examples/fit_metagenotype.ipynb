{
 "cells": [
  {
   "cell_type": "markdown",
   "metadata": {},
   "source": [
    "# Simple Model Fitting"
   ]
  },
  {
   "cell_type": "markdown",
   "metadata": {},
   "source": [
    "Now the fun part: fitting the StrainFacts model to these data.\n",
    "\n",
    "Let's take a look at the details of the default StrainFacts model."
   ]
  },
  {
   "cell_type": "code",
   "execution_count": null,
   "metadata": {},
   "outputs": [],
   "source": [
    "!sfacts model_info default"
   ]
  },
  {
   "cell_type": "markdown",
   "metadata": {},
   "source": [
    "We'll leave all of the hyperparameters set to their default values for this model.\n",
    "In addition, we explicitly fit 15 strains (5 more than the simulation actually had),\n",
    "and we set a random seed for reproducibility."
   ]
  },
  {
   "cell_type": "code",
   "execution_count": null,
   "metadata": {},
   "outputs": [],
   "source": [
    "!sfacts fit \\\n",
    "    --verbose \\\n",
    "    --num-strains 15 \\\n",
    "    --random-seed 0 \\\n",
    "    sim.filt.ss-0.mgen.nc sim.filt.ss-0.fit.world.nc"
   ]
  },
  {
   "cell_type": "markdown",
   "metadata": {},
   "source": [
    "A model of this size on this dataset should fit relatively quickly (<2 minutes on my computer).\n",
    "\n",
    "When run on the command-line, several pieces of information are printed to the screen,\n",
    "thanks to the `--verbose` flag."
   ]
  },
  {
   "cell_type": "markdown",
   "metadata": {},
   "source": [
    "The result of this fit is a \"world\" with a point estimate for _all_ of the parameters.\n",
    "\n",
    "Let's load this into Python and plot the inferred genotypes and relative abundances."
   ]
  },
  {
   "cell_type": "code",
   "execution_count": null,
   "metadata": {},
   "outputs": [],
   "source": [
    "import sfacts as sf\n",
    "\n",
    "fit = sf.data.World.load('sim.filt.ss-0.fit.world.nc')\n",
    "\n",
    "# Plot inferred relative abundances for each sample (the \"community\").\n",
    "sf.plot.plot_community(\n",
    "    fit,\n",
    "    col_linkage_func=lambda w: w.metagenotype.linkage('sample'),\n",
    "    row_linkage_func=lambda w: w.genotype.linkage('strain'),\n",
    ")\n",
    "\n",
    "# Plot the inferred genotype of the 10 simulated strains.\n",
    "sf.plot.plot_genotype(\n",
    "    fit,\n",
    "    row_linkage_func=lambda w: w.genotype.linkage(\"strain\"),\n",
    "    col_linkage_func=lambda w: w.metagenotype.linkage(\"position\"),\n",
    ")"
   ]
  },
  {
   "cell_type": "markdown",
   "metadata": {},
   "source": [
    "Finally, we'll dump the relative abundance and genotype inferences out to TSV files,\n",
    "which could then be used by downstream tools.\n",
    "\n",
    "Note that the genotypes for each strain in each position are encoded as a float,\n",
    "where 0.0 means entirely reference and 1.0 means entirely alternative allele."
   ]
  },
  {
   "cell_type": "code",
   "execution_count": null,
   "metadata": {},
   "outputs": [],
   "source": [
    "!sfacts dump sim.filt.ss-0.fit.world.nc \\\n",
    "    --genotype sim.filt.ss-0.fit.geno.tsv \\\n",
    "    --community sim.filt.ss-0.fit.comm.tsv"
   ]
  },
  {
   "cell_type": "code",
   "execution_count": null,
   "metadata": {},
   "outputs": [],
   "source": [
    "!head sim.filt.ss-0.fit.geno.tsv sim.filt.ss-0.fit.comm.tsv"
   ]
  },
  {
   "cell_type": "markdown",
   "metadata": {},
   "source": [
    "In the next example, we'll see some more complicated ways to fit our data."
   ]
  }
 ],
 "metadata": {
  "kernelspec": {
   "display_name": "Python 3 (ipykernel)",
   "language": "python",
   "name": "python3"
  },
  "language_info": {
   "codemirror_mode": {
    "name": "ipython",
    "version": 3
   },
   "file_extension": ".py",
   "mimetype": "text/x-python",
   "name": "python",
   "nbconvert_exporter": "python",
   "pygments_lexer": "ipython3",
   "version": "3.9.7"
  }
 },
 "nbformat": 4,
 "nbformat_minor": 5
}