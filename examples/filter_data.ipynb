{
 "cells": [
  {
   "cell_type": "markdown",
   "metadata": {},
   "source": [
    "For real-world metagenotype data, positions and samples\n",
    "need to be filtered in order to select\n",
    "\n",
    "- sufficiently polymorphic positions (minimum minor allele frequency)\n",
    "- samples with sufficient coverage (minimum fraction of sites with counts)"
   ]
  },
  {
   "cell_type": "code",
   "execution_count": null,
   "metadata": {},
   "outputs": [],
   "source": [
    "!sfacts filter_mgen \\\n",
    "    --verbose \\\n",
    "    --min-minor-allele-freq 0.05 \\\n",
    "    --min-horizontal-cvrg 0.15 \\\n",
    "    --random-seed 0 \\\n",
    "    sim.mgen.nc sim.filt.mgen.nc"
   ]
  },
  {
   "cell_type": "code",
   "execution_count": null,
   "metadata": {},
   "outputs": [],
   "source": [
    "!sfacts data_info sim.mgen.nc sim.filt.mgen.nc"
   ]
  },
  {
   "cell_type": "markdown",
   "metadata": {},
   "source": [
    "For this simple simulation this filtering had nearly no effect."
   ]
  },
  {
   "cell_type": "markdown",
   "metadata": {},
   "source": [
    "Next we'll subset our data into two non-overlapping blocks.\n",
    "In real data we might want to do this for one of two reasons:\n",
    "\n",
    "- To reduce the computational burden of fitting the data\n",
    "- For cross-validation to evaluate the accuracy of our fit"
   ]
  },
  {
   "cell_type": "code",
   "execution_count": null,
   "metadata": {},
   "outputs": [],
   "source": [
    "!sfacts sample_mgen --verbose \\\n",
    "    --num-positions 500 \\\n",
    "    --block-number 0 \\\n",
    "    --random-seed 0 \\\n",
    "    sim.filt.mgen.nc sim.filt.ss-0.mgen.nc\n",
    "\n",
    "!sfacts sample_mgen --verbose \\\n",
    "    --num-positions 500 \\\n",
    "    --block-number 1 \\\n",
    "    --random-seed 0 \\\n",
    "    sim.filt.mgen.nc sim.filt.ss-1.mgen.nc"
   ]
  },
  {
   "cell_type": "markdown",
   "metadata": {},
   "source": [
    "Next we'll fit our model to these metagenotypes."
   ]
  }
 ],
 "metadata": {
  "kernelspec": {
   "display_name": "Python 3 (ipykernel)",
   "language": "python",
   "name": "python3"
  },
  "language_info": {
   "codemirror_mode": {
    "name": "ipython",
    "version": 3
   },
   "file_extension": ".py",
   "mimetype": "text/x-python",
   "name": "python",
   "nbconvert_exporter": "python",
   "pygments_lexer": "ipython3",
   "version": "3.9.7"
  }
 },
 "nbformat": 4,
 "nbformat_minor": 5
}