{
 "cells": [
  {
   "cell_type": "code",
   "execution_count": null,
   "metadata": {},
   "outputs": [],
   "source": [
    "import sfacts as sf\n",
    "import xarray as xr"
   ]
  },
  {
   "cell_type": "code",
   "execution_count": null,
   "metadata": {},
   "outputs": [],
   "source": [
    "sim = sf.World.load('example1.sim.world.nc')\n",
    "fit = sf.World.load('example1.sim.filt.fit.refit.world.nc')\n",
    "fit = sf.World(fit.data.assign_coords(position=fit.position.astype(int)))\n",
    "\n",
    "sim = sim.sel(position=fit.position.astype(int), sample=fit.sample.astype(int))"
   ]
  },
  {
   "cell_type": "code",
   "execution_count": null,
   "metadata": {},
   "outputs": [],
   "source": [
    "mgen_error = sf.evaluation.metagenotype_error2(fit, discretized=True)\n",
    "fwd_genotype_error = sf.evaluation.discretized_weighted_genotype_error(sim, fit)\n",
    "rev_genotype_error = sf.evaluation.discretized_weighted_genotype_error(fit, sim)\n",
    "bc_error = sf.evaluation.braycurtis_error(sim, fit)\n",
    "unifrac_error = sf.evaluation.unifrac_error(sim, fit)\n",
    "entropy_error = sf.evaluation.community_entropy_error(sim, fit)"
   ]
  },
  {
   "cell_type": "code",
   "execution_count": null,
   "metadata": {},
   "outputs": [],
   "source": [
    "sf.plot.plot_community(\n",
    "    sim,\n",
    "    col_linkage_func=lambda w: sim.communities.linkage('sample'),\n",
    "    col_colors_func=lambda w: xr.Dataset(dict(\n",
    "        mg=mgen_error[1],\n",
    "        bc=bc_error[1],\n",
    "        uf=unifrac_error[1],\n",
    "        ent=entropy_error[1],\n",
    "    )),\n",
    "    row_colors_func=lambda w: xr.Dataset(dict(\n",
    "        fwd=fwd_genotype_error[1],\n",
    "    )),\n",
    ")\n",
    "sf.plot.plot_community(\n",
    "    fit,\n",
    "    col_linkage_func=lambda w: sim.communities.linkage('sample'),\n",
    "    col_colors_func=lambda w: xr.Dataset(dict(\n",
    "        mg=mgen_error[1],\n",
    "        bc=bc_error[1],\n",
    "        uf=unifrac_error[1],\n",
    "        ent=entropy_error[1],\n",
    "    )),\n",
    "    row_colors_func=lambda w: xr.Dataset(dict(\n",
    "        rev=rev_genotype_error[1],\n",
    "    )),\n",
    ")\n",
    "sf.plot.plot_metagenotype(\n",
    "    fit.isel(position=slice(0, 500)),\n",
    "    col_linkage_func=lambda w: sim.communities.linkage('sample'),\n",
    "    col_colors_func=lambda w: xr.Dataset(dict(\n",
    "        mg=mgen_error[1],\n",
    "        bc=bc_error[1],\n",
    "        uf=unifrac_error[1],\n",
    "        ent=entropy_error[1],\n",
    "    )),\n",
    "    row_colors_func=lambda w: xr.Dataset(dict(\n",
    "        _=w.metagenotypes.mean_depth(\"position\"),\n",
    "    )),\n",
    ")\n",
    "sf.plot.plot_genotype(\n",
    "    fit.isel(position=slice(0, 500)),\n",
    "    row_colors_func=lambda w: xr.Dataset(dict(\n",
    "        rev=rev_genotype_error[1],\n",
    "    )),\n",
    ")"
   ]
  },
  {
   "cell_type": "code",
   "execution_count": null,
   "metadata": {},
   "outputs": [],
   "source": [
    "dict(\n",
    "    mgen_error=mgen_error[0],\n",
    "    fwd_genotype_error=fwd_genotype_error[0],\n",
    "    rev_genotype_error=rev_genotype_error[0],\n",
    "    bc_error=bc_error[0],\n",
    "    unifrac_error=unifrac_error[0],\n",
    "    entropy_error=entropy_error[0],\n",
    ")"
   ]
  }
 ],
 "metadata": {
  "kernelspec": {
   "display_name": "Python 3 (ipykernel)",
   "language": "python",
   "name": "python3"
  },
  "language_info": {
   "codemirror_mode": {
    "name": "ipython",
    "version": 3
   },
   "file_extension": ".py",
   "mimetype": "text/x-python",
   "name": "python",
   "nbconvert_exporter": "python",
   "pygments_lexer": "ipython3",
   "version": "3.9.7"
  }
 },
 "nbformat": 4,
 "nbformat_minor": 5
}