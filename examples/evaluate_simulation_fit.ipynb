{
 "cells": [
  {
   "cell_type": "markdown",
   "metadata": {},
   "source": [
    "# Fit Evaluation"
   ]
  },
  {
   "cell_type": "markdown",
   "metadata": {},
   "source": [
    "The `evaluate_fit` command calculates 6 error statistics, including the stats reported in the manuscript.\n",
    "\n",
    "Smaller values are better."
   ]
  },
  {
   "cell_type": "code",
   "execution_count": null,
   "metadata": {},
   "outputs": [],
   "source": [
    "!sfacts evaluate_fit --simulation --outpath sim.eval_all_fits.tsv sim.world.nc sim.world.nc sim.filt.ss-0.fit.world.nc sim.filt.ss-0.fit2.world.nc sim.filt.fit3.world.nc\n",
    "!column -t sim.eval_all_fits.tsv\n",
    "# TODO: Discordance between pairwise metagenotype dissimilarity and predicted metagenotype dissimilarity."
   ]
  },
  {
   "cell_type": "markdown",
   "metadata": {},
   "source": [
    "We can visualize these on a per-sample or per-strain basis as well."
   ]
  },
  {
   "cell_type": "code",
   "execution_count": null,
   "metadata": {},
   "outputs": [],
   "source": [
    "import sfacts as sf\n",
    "import xarray as xr\n",
    "\n",
    "sim = sf.World.load('sim.world.nc')\n",
    "fit = sf.World.load('sim.filt.ss-0.fit.world.nc')\n",
    "fit = sf.World(fit.data.assign_coords(position=fit.position.astype(int)))\n",
    "\n",
    "sim = sim.sel(position=fit.position.astype(int), sample=fit.sample.astype(int))"
   ]
  },
  {
   "cell_type": "code",
   "execution_count": null,
   "metadata": {},
   "outputs": [],
   "source": [
    "mgen_error = sf.evaluation.metagenotype_error2(fit, discretized=True)\n",
    "fwd_genotype_error = sf.evaluation.discretized_weighted_genotype_error(sim, fit)\n",
    "rev_genotype_error = sf.evaluation.discretized_weighted_genotype_error(fit, sim)\n",
    "bc_error = sf.evaluation.braycurtis_error(sim, fit)\n",
    "unifrac_error = sf.evaluation.unifrac_error(sim, fit)\n",
    "entropy_error = sf.evaluation.community_entropy_error(sim, fit)"
   ]
  },
  {
   "cell_type": "code",
   "execution_count": null,
   "metadata": {},
   "outputs": [],
   "source": [
    "sf.plot.plot_community(\n",
    "    sim,\n",
    "    col_linkage_func=lambda w: w.metagenotype.linkage('sample'),\n",
    "    row_linkage_func=lambda w: w.genotype.linkage('strain'),\n",
    "    col_colors_func=lambda w: xr.Dataset(dict(\n",
    "        mg=mgen_error[1],\n",
    "        bc=bc_error[1],\n",
    "        uf=unifrac_error[1],\n",
    "        ent=entropy_error[1].abs(),\n",
    "    )),\n",
    "    row_colors_func=lambda w: xr.Dataset(dict(\n",
    "        fwd=fwd_genotype_error[1],\n",
    "    )),\n",
    ")\n",
    "sf.plot.plot_community(\n",
    "    fit,\n",
    "    col_linkage_func=lambda w: w.metagenotype.linkage('sample'),\n",
    "    row_linkage_func=lambda w: w.genotype.linkage('strain'),\n",
    "    col_colors_func=lambda w: xr.Dataset(dict(\n",
    "        mg=mgen_error[1],\n",
    "        bc=bc_error[1],\n",
    "        uf=unifrac_error[1],\n",
    "        ent=entropy_error[1].abs(),\n",
    "    )),\n",
    "    row_colors_func=lambda w: xr.Dataset(dict(\n",
    "        rev=rev_genotype_error[1],\n",
    "    )),\n",
    ")\n",
    "sf.plot.plot_metagenotype(\n",
    "    fit,\n",
    "    col_linkage_func=lambda w: w.metagenotype.linkage('sample'),\n",
    "    row_linkage_func=lambda w: w.metagenotype.linkage('position'),\n",
    "    col_colors_func=lambda w: xr.Dataset(dict(\n",
    "        mg=mgen_error[1],\n",
    "        bc=bc_error[1],\n",
    "        uf=unifrac_error[1],\n",
    "        ent=entropy_error[1].abs(),\n",
    "    )),\n",
    "    row_colors_func=lambda w: xr.Dataset(dict(\n",
    "        _=w.metagenotype.mean_depth(\"position\"),\n",
    "    )),\n",
    ")\n",
    "sf.plot.plot_genotype(\n",
    "    fit,\n",
    "    row_linkage_func=lambda w: w.genotype.linkage('strain'),\n",
    "    col_linkage_func=lambda w: w.metagenotype.linkage('position'),\n",
    "    row_colors_func=lambda w: xr.Dataset(dict(\n",
    "        rev=rev_genotype_error[1],\n",
    "    )),\n",
    ")\n",
    "sf.plot.plot_genotype(\n",
    "    sim,\n",
    "    row_linkage_func=lambda w: w.genotype.linkage('strain'),\n",
    "    col_linkage_func=lambda w: w.metagenotype.linkage('position'),\n",
    "    row_colors_func=lambda w: xr.Dataset(dict(\n",
    "        fwd=fwd_genotype_error[1],\n",
    "    )),\n",
    ")"
   ]
  },
  {
   "cell_type": "code",
   "execution_count": null,
   "metadata": {},
   "outputs": [],
   "source": [
    "import scipy as sp\n",
    "import matplotlib.pyplot as plt\n",
    "\n",
    "mg_dist = sim.metagenotype.pdist()\n",
    "uf_dist = fit.unifrac_pdist()\n",
    "\n",
    "plt.scatter(sp.spatial.distance.squareform(mg_dist), sp.spatial.distance.squareform(uf_dist))\n",
    "sp.stats.spearmanr(sp.spatial.distance.squareform(mg_dist), sp.spatial.distance.squareform(uf_dist))"
   ]
  },
  {
   "cell_type": "markdown",
   "metadata": {},
   "source": [
    "## Epilogue: Selecting hyperparameters\n",
    "\n",
    "This simulate/fit/evaluate loop gives us an opportunity to select better parameters than the defaults.\n",
    "Likewise, in real data we can harness our expectations about\n",
    "strain diversity (across samples),\n",
    "strain heterogeneity (within samples), and\n",
    "genotype ambiguity (a.k.a. fuzzyness)\n",
    "to pick better parameters for a real-world dataset.\n",
    "\n",
    "The regularization provided by priors is tunable and can be used to get more reasonable estimates.\n",
    "Generally speaking, more of one type of regularization\n",
    "(smaller values of `gamma_hyper`, `pi_hyper`, or `rho_hyper`) will result in\n",
    "less effective regularization of the other two."
   ]
  }
 ],
 "metadata": {
  "kernelspec": {
   "display_name": "Python 3 (ipykernel)",
   "language": "python",
   "name": "python3"
  },
  "language_info": {
   "codemirror_mode": {
    "name": "ipython",
    "version": 3
   },
   "file_extension": ".py",
   "mimetype": "text/x-python",
   "name": "python",
   "nbconvert_exporter": "python",
   "pygments_lexer": "ipython3",
   "version": "3.9.7"
  }
 },
 "nbformat": 4,
 "nbformat_minor": 5
}