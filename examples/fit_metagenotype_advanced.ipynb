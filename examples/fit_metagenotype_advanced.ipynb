{
 "cells": [
  {
   "cell_type": "markdown",
   "metadata": {},
   "source": [
    "# Advanced Model Fitting"
   ]
  },
  {
   "cell_type": "markdown",
   "metadata": {},
   "source": [
    "Sometimes we may want to initialize our fitting procedure with an approximate solution.\n",
    "Here we'll run initialization procedures using both non-negative matrix factorization (NMF) and clustering,\n",
    "and see what each says about genotypes and communities in these data."
   ]
  },
  {
   "cell_type": "code",
   "execution_count": null,
   "metadata": {},
   "outputs": [],
   "source": [
    "!sfacts nmf_init \\\n",
    "    --verbose \\\n",
    "    --num-strains 15 \\\n",
    "    --random-seed 0 \\\n",
    "    sim.filt.ss-0.mgen.nc sim.filt.ss-0.approx-nmf.world.nc"
   ]
  },
  {
   "cell_type": "code",
   "execution_count": null,
   "metadata": {},
   "outputs": [],
   "source": [
    "!sfacts clust_init \\\n",
    "    --verbose \\\n",
    "    --num-strains 15 \\\n",
    "    sim.filt.ss-0.mgen.nc sim.filt.ss-0.approx-clust.world.nc"
   ]
  },
  {
   "cell_type": "code",
   "execution_count": null,
   "metadata": {},
   "outputs": [],
   "source": [
    "import sfacts as sf\n",
    "\n",
    "approx_nmf = sf.World.load('sim.filt.ss-0.approx-nmf.world.nc')\n",
    "approx_clust = sf.World.load('sim.filt.ss-0.approx-clust.world.nc')\n",
    "\n",
    "sf.plot.plot_community(\n",
    "    approx_nmf,\n",
    "    col_linkage_func=lambda w: w.metagenotype.linkage(\"sample\"),\n",
    ")\n",
    "sf.plot.plot_community(\n",
    "    approx_clust,\n",
    "    col_linkage_func=lambda w: w.metagenotype.linkage(\"sample\"),\n",
    ")"
   ]
  },
  {
   "cell_type": "code",
   "execution_count": null,
   "metadata": {},
   "outputs": [],
   "source": [
    "sf.plot.plot_genotype(\n",
    "    approx_nmf,\n",
    "    col_linkage_func=lambda w: w.metagenotype.linkage(\"position\"),\n",
    ")\n",
    "sf.plot.plot_genotype(\n",
    "    approx_clust,\n",
    "    col_linkage_func=lambda w: w.metagenotype.linkage(\"position\"),\n",
    ")"
   ]
  },
  {
   "cell_type": "markdown",
   "metadata": {},
   "source": [
    "By eye, NMF seems to do a better job here. We can use these genotypes as an intialization point for a more refined analysis."
   ]
  },
  {
   "cell_type": "markdown",
   "metadata": {},
   "source": [
    "Now the fun part: fitting the StrainFacts model to these data.\n",
    "\n",
    "Let's take a look at the details of the default StrainFacts model."
   ]
  },
  {
   "cell_type": "markdown",
   "metadata": {},
   "source": [
    "We'll leave all of the hyperparameters set to their default values for this model.\n",
    "In addition, we explicitly fit 15 strains (5 more than the simulation actually had),\n",
    "and we set a random seed for reproducibility."
   ]
  },
  {
   "cell_type": "code",
   "execution_count": null,
   "metadata": {},
   "outputs": [],
   "source": [
    "!sfacts fit \\\n",
    "    --verbose \\\n",
    "    --init-from sim.filt.ss-0.approx-nmf.world.nc --init-vars genotype \\\n",
    "    --num-strains 15 \\\n",
    "    --random-seed 0 \\\n",
    "    sim.filt.ss-0.mgen.nc sim.filt.ss-0.fit2.world.nc"
   ]
  },
  {
   "cell_type": "code",
   "execution_count": null,
   "metadata": {},
   "outputs": [],
   "source": [
    "fit = sf.World.load('sim.filt.ss-0.fit.world.nc')\n",
    "\n",
    "sf.plot.plot_community(\n",
    "    fit,\n",
    "    col_linkage_func=lambda w: w.metagenotype.linkage(\"sample\"),\n",
    "    row_linkage_func=lambda w: w.genotype.linkage(\"strain\")\n",
    ")\n",
    "sf.plot.plot_genotype(\n",
    "    fit,\n",
    "    row_linkage_func=lambda w: w.genotype.linkage(\"strain\")\n",
    ")"
   ]
  },
  {
   "cell_type": "markdown",
   "metadata": {},
   "source": [
    "Sometimes we may want to re-estimate genotype\n",
    "based on this initial estimate of strain relative abundances.\n",
    "This can be useful if we have many more SNP positions than computational resources.\n",
    "Alternatively, and in this case, we can use the refitting procedure to\n",
    "get a feel for how precisely specified our genotype estimates are.\n",
    "We do this by explicitly setting the regularization parameter, $\\gamma^*$ (`gamma_hyper`),\n",
    "to 1.01, which removes the bias towards discrete genotypes.\n",
    "The result is that our genotype estimates will be \"fuzzy\",\n",
    "incorporating more uncertainty.\n",
    "\n",
    "All other hyperparameters are set to default values.\n",
    "\n",
    "Here, we're going to refit the original 1000 simulated positions.\n",
    "Remember that we already subsampled this file into two\n",
    "non-overlapping blocks of 500 positions and used the first for the initial fitting.\n",
    "Now, we'll fix the strain relative abundances (\"community\") and use gradient\n",
    "descent to estimate genotypes.\n",
    "Since conditioning on the community makes every position\n",
    "in the genotype seperable, we can easily parallelize this refitting procedure\n",
    "by running blocks in parallel processes.\n",
    "Here we'll also further divide our computation of each block serially using --chunk-size."
   ]
  },
  {
   "cell_type": "code",
   "execution_count": null,
   "metadata": {},
   "outputs": [],
   "source": [
    "!sfacts fit_geno \\\n",
    "    --verbose \\\n",
    "    --hyperparameters gamma_hyper=1.01 \\\n",
    "    --chunk-size=250 \\\n",
    "    --random-seed=0 \\\n",
    "    sim.filt.ss-0.fit2.world.nc sim.filt.ss-0.mgen.nc sim.filt.ss-0.fit3.geno.nc"
   ]
  },
  {
   "cell_type": "code",
   "execution_count": null,
   "metadata": {},
   "outputs": [],
   "source": [
    "!sfacts fit_geno \\\n",
    "    --verbose \\\n",
    "    --hyperparameters gamma_hyper=1.01 \\\n",
    "    --chunk-size=250 \\\n",
    "    --random-seed=0 \\\n",
    "    sim.filt.ss-0.fit2.world.nc sim.filt.ss-1.mgen.nc sim.filt.ss-1.fit3.geno.nc"
   ]
  },
  {
   "cell_type": "code",
   "execution_count": null,
   "metadata": {},
   "outputs": [],
   "source": [
    "!sfacts concat_geno \\\n",
    "    --metagenotype sim.filt.mgen.nc \\\n",
    "    --community sim.filt.ss-0.fit2.world.nc \\\n",
    "    --outpath sim.filt.fit3.world.nc \\\n",
    "    sim.filt.ss-0.fit3.geno.nc sim.filt.ss-1.fit3.geno.nc"
   ]
  },
  {
   "cell_type": "markdown",
   "metadata": {},
   "source": [
    "`concatenate_genotype_chunks` then recombines one or more genotype blocks refit in this step with the observed\n",
    "metagenotype data and original community inference to build a new world file.\n",
    "\n",
    "When we visualize these refit genotypes, we see that they look similar, but slightly \"fuzzier\"\n",
    "than the original fit."
   ]
  },
  {
   "cell_type": "markdown",
   "metadata": {},
   "source": [
    "In the next example, we'll compare these fits to the simulated ground-truth\n",
    "in order to evaluate our performance."
   ]
  }
 ],
 "metadata": {
  "kernelspec": {
   "display_name": "Python 3 (ipykernel)",
   "language": "python",
   "name": "python3"
  },
  "language_info": {
   "codemirror_mode": {
    "name": "ipython",
    "version": 3
   },
   "file_extension": ".py",
   "mimetype": "text/x-python",
   "name": "python",
   "nbconvert_exporter": "python",
   "pygments_lexer": "ipython3",
   "version": "3.9.7"
  }
 },
 "nbformat": 4,
 "nbformat_minor": 5
}