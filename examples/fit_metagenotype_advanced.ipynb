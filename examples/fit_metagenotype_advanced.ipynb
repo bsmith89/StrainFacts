{
 "cells": [
  {
   "cell_type": "code",
   "execution_count": null,
   "metadata": {},
   "outputs": [],
   "source": [
    "import sfacts as sf"
   ]
  },
  {
   "cell_type": "markdown",
   "metadata": {},
   "source": [
    "Load the simulated metagenotype and filter\n",
    "\n",
    "- positions by a minimum minor allele frequency\n",
    "- samples by a minimum horizontal coverage (fraction of sites with counts)"
   ]
  },
  {
   "cell_type": "code",
   "execution_count": null,
   "metadata": {},
   "outputs": [],
   "source": [
    "!sfacts simulate \\\n",
    "    --num-strains=10 --num-samples=50 --num-positions=1000 \\\n",
    "    --hyperparameters pi_hyper=0.1 mu_hyper_mean=10.0 epsilon_hyper_mode=0.01 \\\n",
    "    --random-seed=0 \\\n",
    "    sim2.world.nc"
   ]
  },
  {
   "cell_type": "code",
   "execution_count": null,
   "metadata": {},
   "outputs": [],
   "source": [
    "!sfacts filter_mgen \\\n",
    "    --min-minor-allele-freq 0.05 \\\n",
    "    --min-horizontal-cvrg 0.15 \\\n",
    "    --random-seed 0 \\\n",
    "    sim2.mgen.nc sim2.filt.mgen.nc"
   ]
  },
  {
   "cell_type": "code",
   "execution_count": null,
   "metadata": {},
   "outputs": [],
   "source": [
    "!sfacts data_info sim2.filt.mgen.nc"
   ]
  },
  {
   "cell_type": "markdown",
   "metadata": {},
   "source": [
    "Now subsample 500 of the positions."
   ]
  },
  {
   "cell_type": "code",
   "execution_count": null,
   "metadata": {},
   "outputs": [],
   "source": [
    "%%bash\n",
    "for i in `seq 0 9`\n",
    "do\n",
    "    sfacts sample_mgen --verbose \\\n",
    "        --num-positions 500 \\\n",
    "        --block-number $i \\\n",
    "        --random-seed 0 \\\n",
    "        sim.filt.mgen.nc sim.filt.ss-$i.mgen.nc\n",
    "done"
   ]
  },
  {
   "cell_type": "markdown",
   "metadata": {},
   "source": [
    "Before we apply the full-strength StrainFacts model to our data,\n",
    "let's try out to approximations, NMF and clustering, and see what they say about genotypes and communities in these data."
   ]
  },
  {
   "cell_type": "code",
   "execution_count": null,
   "metadata": {},
   "outputs": [],
   "source": [
    "!sfacts nmf_init \\\n",
    "    --verbose \\\n",
    "    --num-strains 15 \\\n",
    "    --random-seed 0 \\\n",
    "    sim.filt.ss-0.mgen.nc sim.filt.ss-0.approx-nmf.world.nc"
   ]
  },
  {
   "cell_type": "code",
   "execution_count": null,
   "metadata": {},
   "outputs": [],
   "source": [
    "!sfacts cluster_init \\\n",
    "    --verbose \\\n",
    "    --num-strains 15 \\\n",
    "    --random-seed 0 \\\n",
    "    sim.filt.ss-0.mgen.nc sim.filt.ss-0.approx-clust.world.nc"
   ]
  },
  {
   "cell_type": "code",
   "execution_count": null,
   "metadata": {},
   "outputs": [],
   "source": [
    "approx_nmf = sf.World.load('sim.filt.ss-0.approx-nmf.world.nc')\n",
    "approx_clust = sf.World.load('sim.filt.ss-0.approx-clust.world.nc')\n",
    "\n",
    "sf.plot.plot_community(\n",
    "    approx_nmf,\n",
    "    col_linkage_func=lambda w: w.metagenotype.linkage(\"sample\"),\n",
    ")\n",
    "sf.plot.plot_community(\n",
    "    approx_clust,\n",
    "    col_linkage_func=lambda w: w.metagenotype.linkage(\"sample\"),\n",
    ")"
   ]
  },
  {
   "cell_type": "code",
   "execution_count": null,
   "metadata": {},
   "outputs": [],
   "source": [
    "sf.plot.plot_genotype(\n",
    "    approx_nmf,\n",
    "    col_linkage_func=lambda w: w.metagenotype.linkage(\"position\"),\n",
    ")\n",
    "sf.plot.plot_genotype(\n",
    "    approx_clust,\n",
    "    col_linkage_func=lambda w: w.metagenotype.linkage(\"position\"),\n",
    ")"
   ]
  },
  {
   "cell_type": "markdown",
   "metadata": {},
   "source": [
    "By eye, NMF seems to do a better job here. We can use these genotypes as an intialization point for a more refined analysis."
   ]
  },
  {
   "cell_type": "markdown",
   "metadata": {},
   "source": [
    "Now the fun part: fitting the StrainFacts model to these data.\n",
    "\n",
    "Let's take a look at the details of the default StrainFacts model."
   ]
  },
  {
   "cell_type": "markdown",
   "metadata": {},
   "source": [
    "We'll leave all of the hyperparameters set to their default values for this model.\n",
    "In addition, we explicitly fit 15 strains (5 more than the simulation actually had),\n",
    "and we set a random seed for reproducibility."
   ]
  },
  {
   "cell_type": "code",
   "execution_count": null,
   "metadata": {},
   "outputs": [],
   "source": [
    "!sfacts fit \\\n",
    "    --verbose \\\n",
    "    --init-from sim.filt.ss-0.approx-nmf.world.nc --init-vars genotype \\\n",
    "    --num-strains 15 \\\n",
    "    --random-seed 0 \\\n",
    "    sim.filt.ss-0.mgen.nc sim.filt.ss-0.fit2.world.nc"
   ]
  },
  {
   "cell_type": "markdown",
   "metadata": {},
   "source": [
    "Sometimes\n",
    "we may want to re-estimate genotype\n",
    "based on this initial estimate of strain relative abundances.\n",
    "This can be useful if we have many more SNP positions than computational resources.\n",
    "\n",
    "Here, we're going to fit the first 1000 simulated positions. By specifying a `--block-size` and `--block-number` we can\n",
    "divide our computation up into parallel processes using a split-apply-combine workflow.\n",
    "We then divide our computation serially (`--chunk-size`) and across multiple processes .\n",
    "\n",
    "Several hyperparameters are set to the defaults for this model.\n",
    "For this refitting we have explicitly set the regularization parameter, $\\gamma^*$ / `gamma_hyper`, to 1.01,\n",
    "which removes the bias towards discrete genotypes.\n",
    "The result is that our genotype estimates will be \"fuzzy\",\n",
    "incorporating more uncertainty."
   ]
  },
  {
   "cell_type": "code",
   "execution_count": null,
   "metadata": {},
   "outputs": [],
   "source": [
    "!sfacts fit_geno \\\n",
    "    --verbose \\\n",
    "    --hyperparameters gamma_hyper=1.01 \\\n",
    "    --chunk-size=250 \\\n",
    "    --random-seed=0 \\\n",
    "    sim.filt.ss-0.fit2.world.nc sim.filt.ss-0.mgen.nc sim.filt.ss-0.refit-0.geno.nc"
   ]
  },
  {
   "cell_type": "code",
   "execution_count": null,
   "metadata": {},
   "outputs": [],
   "source": [
    "%%bash\n",
    "for i in `seq 1 9`\n",
    "do\n",
    "    sfacts fit_geno \\\n",
    "        --verbose \\\n",
    "        --hyperparameters gamma_hyper=1.01 \\\n",
    "        --chunk-size=500 \\\n",
    "        --random-seed=0 \\\n",
    "        sim.filt.ss-0.fit2.world.nc sim.filt.ss-$i.mgen.nc sim.filt.ss-0.fit2.refit-$i.geno.nc\n",
    "done"
   ]
  },
  {
   "cell_type": "code",
   "execution_count": null,
   "metadata": {},
   "outputs": [],
   "source": [
    "%%bash\n",
    "sfacts concat_geno \\\n",
    "            --metagenotype sim.filt.mgen.nc \\\n",
    "            --community sim.filt.ss-0.fit2.world.nc \\\n",
    "            --outpath sim.filt.fit2.refit.world.nc \\\n",
    "            sim.filt.ss-0.refit-{0,1,2,3,4,5,6,7,8,9}.geno.nc"
   ]
  },
  {
   "cell_type": "markdown",
   "metadata": {},
   "source": [
    "`concatenate_genotype_chunks` then recombines one or more genotype blocks refit in this step with the observed\n",
    "metagenotype data and original community inference to build a new world file.\n",
    "\n",
    "When we visualize these refit genotypes, we see that they look similar, but slightly \"fuzzier\"\n",
    "than the original fit."
   ]
  },
  {
   "cell_type": "code",
   "execution_count": null,
   "metadata": {},
   "outputs": [],
   "source": [
    "# TODO: Evaluate in-bag vs. out-of-bag refitting performance."
   ]
  },
  {
   "cell_type": "code",
   "execution_count": null,
   "metadata": {},
   "outputs": [],
   "source": [
    "!sfacts evaluate_fit --outpath sim.filt.fit.eval.tsv sim.world.nc sim.world.nc sim.filt.ss-0.fit2.world.nc sim.filt.ss-0.refit-0.geno.nc\n",
    "!column -t sim.filt.fit.eval.tsv"
   ]
  },
  {
   "cell_type": "markdown",
   "metadata": {},
   "source": [
    "In the next example, we'll compare this fit to the simulated ground-truth\n",
    "in order to evaluate our performance."
   ]
  }
 ],
 "metadata": {
  "kernelspec": {
   "display_name": "Python 3 (ipykernel)",
   "language": "python",
   "name": "python3"
  },
  "language_info": {
   "codemirror_mode": {
    "name": "ipython",
    "version": 3
   },
   "file_extension": ".py",
   "mimetype": "text/x-python",
   "name": "python",
   "nbconvert_exporter": "python",
   "pygments_lexer": "ipython3",
   "version": "3.9.7"
  }
 },
 "nbformat": 4,
 "nbformat_minor": 5
}