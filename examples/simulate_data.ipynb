{
 "cells": [
  {
   "cell_type": "code",
   "execution_count": null,
   "metadata": {},
   "outputs": [],
   "source": [
    "import sfacts as sf"
   ]
  },
  {
   "cell_type": "code",
   "execution_count": null,
   "metadata": {},
   "outputs": [],
   "source": [
    "%run -m sfacts simulate \\\n",
    "    --model-structure simplest_simulation \\\n",
    "    --num-strains 10 --num-samples 50 --num-positions 5000 \\\n",
    "    --hyperparameters pi_hyper=0.4 mu_hyper_mean=10.0 epsilon_hyper_mode=0.01 \\\n",
    "    --random-seed 0 \\\n",
    "    --outpath example.sim.nc\n",
    "%run -m sfacts dump example.sim.nc --metagenotype example.mgen.nc"
   ]
  },
  {
   "cell_type": "code",
   "execution_count": null,
   "metadata": {},
   "outputs": [],
   "source": [
    "sim = sf.data.World.load('example.sim.nc')\n",
    "sim_head = sim.isel(position=slice(0, 500))\n",
    "sf.plot.plot_community(sim_head, col_linkage_func=lambda w: w.metagenotypes.linkage(\"sample\"))\n",
    "sf.plot.plot_genotype(sim_head)\n",
    "sf.plot.plot_metagenotype(sim_head, col_linkage_func=lambda w: w.metagenotypes.linkage(\"sample\"))"
   ]
  }
 ],
 "metadata": {
  "kernelspec": {
   "display_name": "Python 3 (ipykernel)",
   "language": "python",
   "name": "python3"
  },
  "language_info": {
   "codemirror_mode": {
    "name": "ipython",
    "version": 3
   },
   "file_extension": ".py",
   "mimetype": "text/x-python",
   "name": "python",
   "nbconvert_exporter": "python",
   "pygments_lexer": "ipython3",
   "version": "3.9.7"
  }
 },
 "nbformat": 4,
 "nbformat_minor": 5
}