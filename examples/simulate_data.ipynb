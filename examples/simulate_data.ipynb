{
 "cells": [
  {
   "cell_type": "code",
   "execution_count": null,
   "metadata": {},
   "outputs": [],
   "source": [
    "import sfacts as sf"
   ]
  },
  {
   "cell_type": "code",
   "execution_count": null,
   "metadata": {},
   "outputs": [],
   "source": [
    "%%bash\n",
    "sfacts simulate \\\n",
    "    --model-structure=ssdd3_with_error \\\n",
    "    --num-strains=10 --num-samples=50 --num-positions=5000 \\\n",
    "    --hyperparameters\n",
    "        gamma_hyper=1e-5 rho_hyper=10.0 pi_hyper=0.1 \\\n",
    "        mu_hyper_mean=10.0 mu_hyper_scale=3.0 m_hyper_concentration=3.0 \\\n",
    "        epsilon_hyper_mode=0.01 epsilon_hyper_spread=1.5 \\\n",
    "        alpha_hyper_mean=100 alpha_hyper_scale=0.5 \\\n",
    "    --random-seed=0 \\\n",
    "    --outpath sim.world.nc"
   ]
  },
  {
   "cell_type": "code",
   "execution_count": null,
   "metadata": {},
   "outputs": [],
   "source": [
    "sim = sf.data.World.load('sim.world.nc')\n",
    "sim_head = sim.isel(position=slice(0, 500))\n",
    "sf.plot.plot_community(sim_head, row_linkage_func=lambda w: w.genotypes.linkage(\"strain\"), col_linkage_func=lambda w: w.metagenotypes.linkage(\"sample\"))\n",
    "sf.plot.plot_genotype(sim_head, row_linkage_func=lambda w: w.genotypes.linkage(\"strain\"))\n",
    "sf.plot.plot_metagenotype(sim_head, col_linkage_func=lambda w: w.metagenotypes.linkage(\"sample\"))"
   ]
  },
  {
   "cell_type": "code",
   "execution_count": null,
   "metadata": {},
   "outputs": [],
   "source": [
    "%%bash\n",
    "sfacts dump --tsv sim.world.nc --metagenotype sim.mgen.tsv\n",
    "\n",
    "head sim.mgen.tsv | column -t"
   ]
  },
  {
   "cell_type": "code",
   "execution_count": null,
   "metadata": {},
   "outputs": [],
   "source": [
    "%%bash\n",
    "\n",
    "sfacts load_mgen sim.mgen.tsv sim.mgen.nc"
   ]
  }
 ],
 "metadata": {
  "kernelspec": {
   "display_name": "Python 3 (ipykernel)",
   "language": "python",
   "name": "python3"
  },
  "language_info": {
   "codemirror_mode": {
    "name": "ipython",
    "version": 3
   },
   "file_extension": ".py",
   "mimetype": "text/x-python",
   "name": "python",
   "nbconvert_exporter": "python",
   "pygments_lexer": "ipython3",
   "version": "3.9.7"
  }
 },
 "nbformat": 4,
 "nbformat_minor": 5
}