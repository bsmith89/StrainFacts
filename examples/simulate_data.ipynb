{
 "cells": [
  {
   "cell_type": "markdown",
   "metadata": {},
   "source": [
    "Simulating a metagenotype is equivalent to sampling from the StrainFacts model\n",
    "(or one of the multiple models that have been defined).\n",
    "For the default model (a.k.a. `ssdd3_with_error`),\n",
    "this means simulating each of:\n",
    "\n",
    "- genotypes of each strain\n",
    "- strain relative abundances in each sample\n",
    "- error rates and over-dispersion parameters\n",
    "- the actual, observed counts at each site in each sample\n",
    "\n",
    "Hyperparameters controlling each of these are specified explicitly.\n",
    "Likewise, we specify all three dimensions of our model, $S$, $N$, and $G$,\n",
    "the number of strains, number of samples, and number of SNP positions, respectively.\n",
    "\n",
    "We also set a random seed for reproducibility."
   ]
  },
  {
   "cell_type": "code",
   "execution_count": null,
   "metadata": {},
   "outputs": [],
   "source": [
    "!sfacts simulate \\\n",
    "    --num-strains=10 --num-samples=50 --num-positions=1000 \\\n",
    "    --hyperparameters pi_hyper=0.1 mu_hyper_mean=10.0 epsilon_hyper_mode=0.01 \\\n",
    "    --random-seed=0 \\\n",
    "    sim.world.nc"
   ]
  },
  {
   "cell_type": "markdown",
   "metadata": {},
   "source": [
    "The `simulate` command writes the full description of our simulated \"world\"\n",
    "(including all of the unobserved variables) to a file in the NetCDF format.\n",
    "\n",
    "We then use the `sfacts` Python library to read this file so that we can visualize\n",
    "the simulated values."
   ]
  },
  {
   "cell_type": "code",
   "execution_count": null,
   "metadata": {},
   "outputs": [],
   "source": [
    "import sfacts as sf\n",
    "\n",
    "# Read the simulated world.\n",
    "sim = sf.data.World.load('sim.world.nc')\n",
    "sim_ss = sim.random_sample(position=min(400, len(sim.position)))\n",
    "\n",
    "# Plot the metagenotype for each sample.\n",
    "sf.plot.plot_metagenotype(\n",
    "    sim_ss,\n",
    "    col_linkage_func=lambda w: w.metagenotype.linkage(\"sample\"),\n",
    "    row_linkage_func=lambda w: w.metagenotype.linkage(\"position\"),\n",
    ")\n",
    "\n",
    "# Plot relative abundances for each sample (the \"community\").\n",
    "sf.plot.plot_community(\n",
    "    sim_ss,\n",
    "    row_linkage_func=lambda w: w.genotype.linkage(\"strain\"),\n",
    "    col_linkage_func=lambda w: w.metagenotype.linkage(\"sample\"),\n",
    ")\n",
    "\n",
    "# Plot the (unobserved) genotypes of the 10 simulated strains.\n",
    "sf.plot.plot_genotype(\n",
    "    sim_ss,\n",
    "    row_linkage_func=lambda w: w.genotype.linkage(\"strain\"),\n",
    "    col_linkage_func=lambda w: w.metagenotype.linkage(\"position\"),\n",
    ")"
   ]
  },
  {
   "cell_type": "markdown",
   "metadata": {},
   "source": [
    "The `{row,col}_linkage_func` parameter allows us to customize how\n",
    "the columns/rows of these heatmaps are ordered.\n",
    "Here we match the axes across all three plots."
   ]
  },
  {
   "cell_type": "markdown",
   "metadata": {},
   "source": [
    "Next, we use the CLI to select just the metagenotype (the observed data) from this simulated world, and dumping it to a TSV."
   ]
  },
  {
   "cell_type": "code",
   "execution_count": null,
   "metadata": {},
   "outputs": [],
   "source": [
    "!sfacts dump sim.world.nc --metagenotype sim.mgen.tsv"
   ]
  },
  {
   "cell_type": "code",
   "execution_count": null,
   "metadata": {},
   "outputs": [],
   "source": [
    "!head sim.mgen.tsv | column -t"
   ]
  },
  {
   "cell_type": "markdown",
   "metadata": {},
   "source": [
    "When working with \"real world\" metagenotypes, they should be formatted to match this example TSV file.\n",
    "\n",
    "Finally, we'll convert this TSV back to the native StrainFacts format."
   ]
  },
  {
   "cell_type": "code",
   "execution_count": null,
   "metadata": {},
   "outputs": [],
   "source": [
    "!sfacts load --metagenotype sim.mgen.tsv sim.mgen.nc"
   ]
  },
  {
   "cell_type": "markdown",
   "metadata": {},
   "source": [
    "This metagenotype file will be filtered and used for inference in the next example."
   ]
  }
 ],
 "metadata": {
  "kernelspec": {
   "display_name": "Python 3 (ipykernel)",
   "language": "python",
   "name": "python3"
  },
  "language_info": {
   "codemirror_mode": {
    "name": "ipython",
    "version": 3
   },
   "file_extension": ".py",
   "mimetype": "text/x-python",
   "name": "python",
   "nbconvert_exporter": "python",
   "pygments_lexer": "ipython3",
   "version": "3.9.7"
  }
 },
 "nbformat": 4,
 "nbformat_minor": 5
}