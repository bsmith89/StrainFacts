{
 "cells": [
  {
   "cell_type": "code",
   "execution_count": null,
   "metadata": {},
   "outputs": [],
   "source": [
    "import sfacts as sf"
   ]
  },
  {
   "cell_type": "code",
   "execution_count": null,
   "metadata": {},
   "outputs": [],
   "source": [
    "%%bash\n",
    "sfacts simulate \\\n",
    "    --model-structure=ssdd3_with_error \\\n",
    "    --num-strains=10 --num-samples=50 --num-positions=5000 \\\n",
    "    --hyperparameters gamma_hyper=1e-5 rho_hyper=10.0 pi_hyper=0.1 \\\n",
    "    mu_hyper_mean=10.0 mu_hyper_scale=3.0 m_hyper_concentration=3.0 \\\n",
    "    epsilon_hyper_mode=0.01 epsilon_hyper_spread=1.5 alpha_hyper_mean=100 alpha_hyper_scale=0.5 \\\n",
    "    --random-seed=0 \\\n",
    "    --outpath example1.sim.world.nc\n",
    "sfacts dump example1.sim.world.nc --metagenotype example1.sim.mgen.nc"
   ]
  },
  {
   "cell_type": "code",
   "execution_count": null,
   "metadata": {},
   "outputs": [],
   "source": [
    "sim = sf.data.World.load('example1.sim.world.nc')\n",
    "sim_head = sim.isel(position=slice(0, 500))\n",
    "sf.plot.plot_community(sim_head, row_linkage_func=lambda w: w.genotypes.linkage(\"strain\"), col_linkage_func=lambda w: w.metagenotypes.linkage(\"sample\"))\n",
    "sf.plot.plot_genotype(sim_head, row_linkage_func=lambda w: w.genotypes.linkage(\"strain\"))\n",
    "sf.plot.plot_metagenotype(sim_head, col_linkage_func=lambda w: w.metagenotypes.linkage(\"sample\"))"
   ]
  }
 ],
 "metadata": {
  "kernelspec": {
   "display_name": "Python 3 (ipykernel)",
   "language": "python",
   "name": "python3"
  },
  "language_info": {
   "codemirror_mode": {
    "name": "ipython",
    "version": 3
   },
   "file_extension": ".py",
   "mimetype": "text/x-python",
   "name": "python",
   "nbconvert_exporter": "python",
   "pygments_lexer": "ipython3",
   "version": "3.9.7"
  }
 },
 "nbformat": 4,
 "nbformat_minor": 5
}