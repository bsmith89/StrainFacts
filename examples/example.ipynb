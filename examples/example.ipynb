{
 "cells": [
  {
   "cell_type": "code",
   "execution_count": null,
   "metadata": {},
   "outputs": [],
   "source": [
    "import sfacts as sf"
   ]
  },
  {
   "cell_type": "code",
   "execution_count": null,
   "metadata": {},
   "outputs": [],
   "source": [
    "%%bash\n",
    "sfacts simulate \\\n",
    "    --model-structure simplest_simulation \\\n",
    "    --num-strains 10 --num-samples 50 --num-positions 5000 \\\n",
    "    --hyperparameters pi_hyper=0.4 mu_hyper_mean=10.0 epsilon_hyper_mode=0.01 \\\n",
    "    --random-seed 0 \\\n",
    "    --outpath example.sim.nc\n",
    "sfacts dump example.sim.nc --metagenotype example.mgen.nc"
   ]
  },
  {
   "cell_type": "code",
   "execution_count": null,
   "metadata": {},
   "outputs": [],
   "source": [
    "sim = sf.data.World.load('example.sim.nc')\n",
    "sim_head = sim.isel(position=slice(0, 500))\n",
    "sf.plot.plot_community(sim_head, col_linkage_func=lambda w: w.metagenotypes.linkage(\"sample\"))\n",
    "sf.plot.plot_genotype(sim_head)\n",
    "sf.plot.plot_metagenotype(sim_head, col_linkage_func=lambda w: w.metagenotypes.linkage(\"sample\"))"
   ]
  },
  {
   "cell_type": "code",
   "execution_count": null,
   "metadata": {},
   "outputs": [],
   "source": [
    "%%bash\n",
    "sfacts fit \\\n",
    "    --verbose \\\n",
    "    --model-structure ssdd3_with_error \\\n",
    "    --num-strains 15 --num-positions 500 \\\n",
    "    --random-seed 0 \\\n",
    "    example.mgen.nc example.fit.nc~"
   ]
  },
  {
   "cell_type": "raw",
   "metadata": {},
   "source": [
    "# TODO: This was the output printed to my CLI (although it wouldn't show up in jupyter, for some reason.)\n",
    "\n",
    "[2022-04-12 09:51:16.629690] START: Fitting 15 strains with data shape Frozen({'sample': 50, 'position': 500, 'allele': 2}).\n",
    "[2022-04-12 09:51:16.629803] START: Initializing with NMF.\n",
    "[2022-04-12 09:51:16.629834] (This may take a while if data dimensions are large.)\n",
    "[2022-04-12 09:51:16.789318] END: Initializing with NMF. (took 0 seconds)\n",
    "[2022-04-12 09:51:16.789390] START: Fitting model parameters.\n",
    "  1%|| 7615/1000000 [02:12<4:48:44, 57.28it/s, NLP=+2.882e+05, delta=+0.000e+00, lag50=-1.250e-03, lag100=-6.250e-04, lr=+7.629e-07]\n",
    "[2022-04-12 09:53:29.739646] Converged: NLP=2.88171e+05\n",
    "[2022-04-12 09:53:29.774067] END: Fitting model parameters. (took 133 seconds)\n",
    "[2022-04-12 09:53:29.782410] Average metagenotype error: 0.044222651033030434\n",
    "[2022-04-12 09:53:29.782491] END: Fitting 15 strains with data shape Frozen({'sample': 50, 'position': 500, 'allele': 2}). (took 133 seconds)"
   ]
  },
  {
   "cell_type": "code",
   "execution_count": null,
   "metadata": {},
   "outputs": [],
   "source": [
    "fit = sf.data.World.load('example.fit.nc')\n",
    "sf.plot.plot_community(fit, col_linkage_func=lambda w: w.metagenotypes.linkage(\"sample\"))\n",
    "sf.plot.plot_genotype(fit)\n",
    "sf.plot.plot_metagenotype(fit, col_linkage_func=lambda w: w.metagenotypes.linkage(\"sample\"))"
   ]
  },
  {
   "cell_type": "code",
   "execution_count": null,
   "metadata": {},
   "outputs": [],
   "source": [
    "%run -m sfacts fit_genotype \\\n",
    "    --verbose \\\n",
    "    --model-structure ssdd3_with_error \\\n",
    "    --block-number 0 \\\n",
    "    --num-positionsB 500 \\\n",
    "    --random-seed 0 \\\n",
    "    example.fit.nc example.mgen.nc example.fit_all.nc"
   ]
  },
  {
   "cell_type": "raw",
   "metadata": {},
   "source": [
    "# TODO: Get this output inside the notebook\n",
    "\n",
    "[2022-04-12 10:29:47.549083] Selecting genotype block 0 as [0, 5000) from 5000 positions.\n",
    "[2022-04-12 10:29:47.549466] START: Fitting genotypes for 5000 positions.\n",
    "[2022-04-12 10:29:47.549499] Conditioned on provided communities with 15 strains and 50 samples.\n",
    "[2022-04-12 10:29:47.549742] Iteratively fitting genotypes by chunks.\n",
    "[2022-04-12 10:29:47.549799] START: Chunk [0, 5000).\n",
    "  0%|| 289/1000000 [00:26<25:44:17, 10.79it/s, NLP=+2.211e+10, delta=+8.841e+08, lag50=+2.449e+09, lag100=+8.854e+09, lr=+5.000e-02]^C\n",
    "[2022-04-12 10:30:14.420529] Interrupted: NLP=4.64445e+09"
   ]
  }
 ],
 "metadata": {
  "kernelspec": {
   "display_name": "Python 3 (ipykernel)",
   "language": "python",
   "name": "python3"
  },
  "language_info": {
   "codemirror_mode": {
    "name": "ipython",
    "version": 3
   },
   "file_extension": ".py",
   "mimetype": "text/x-python",
   "name": "python",
   "nbconvert_exporter": "python",
   "pygments_lexer": "ipython3",
   "version": "3.9.7"
  }
 },
 "nbformat": 4,
 "nbformat_minor": 5
}